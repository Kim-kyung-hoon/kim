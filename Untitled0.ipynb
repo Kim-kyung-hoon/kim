{
  "nbformat": 4,
  "nbformat_minor": 0,
  "metadata": {
    "colab": {
      "name": "Untitled0.ipynb",
      "provenance": [],
      "authorship_tag": "ABX9TyNF2+TY3pBF1/O4lgsQH33y",
      "include_colab_link": true
    },
    "kernelspec": {
      "name": "python3",
      "display_name": "Python 3"
    }
  },
  "cells": [
    {
      "cell_type": "markdown",
      "metadata": {
        "id": "view-in-github",
        "colab_type": "text"
      },
      "source": [
        "<a href=\"https://colab.research.google.com/github/Kim-kyung-hoon/kim/blob/master/Untitled0.ipynb\" target=\"_parent\"><img src=\"https://colab.research.google.com/assets/colab-badge.svg\" alt=\"Open In Colab\"/></a>"
      ]
    },
    {
      "cell_type": "markdown",
      "metadata": {
        "id": "hQ5QW5OYpLqF",
        "colab_type": "text"
      },
      "source": [
        "# 음성 \n",
        "* **기가지니**\n",
        "\n",
        "  기가지니는 kt에서 만든 음성으로 다양한 서비스를 제공하는 제품입니다.\n",
        "\n",
        "  기가지니는 초반에 알고리즘 기반으로 음성인식 개발을 쭉 해오며 일부 서비스에도 적용이 되었습니다. 최근에는 딥 러닝 기반으로 변경하여 인식률을 상당히 끌어올렸습니다. 자연어 처리는 90%이상 음성 인식은 95%까지 인식을 할 수 있습니다.\n",
        "\n",
        "  [https://reinia.net/1994](link)\n",
        "\n",
        "## 자율주행 \n",
        "  * **테슬라 자율주행 차**\n",
        "\n",
        "   테슬라 차량에 달린 카메라들은 단지 몇 초간 운행하며 찍은 데이터만으로도 Multi-view stereo 기술을 통해 이들을 통합하여 멀고 가까운 거리가 인식되도록 3차원으로 만들어 낼 수 있으며 인간이 사물을 보는 것과 같은 방식이다.\n",
        "\n",
        "   [https://blog.naver.com/shakey7/221521842850](link)\n",
        "\n",
        "### 언어\n",
        "\n",
        "* **파파고**\n",
        "\n",
        "  파파고에 탑재된 번역 기술은 네이버 연구소에서 자체 개발한 N2MT (Naver Neural Machine Translation)입니다. 쉽게 말하자면 인공지능이 학습을 통해 정답에 가깝게 배워간다는 것입니다. 기존 번역기는 문장을 번역할 때 일정 단위로 잘라서 번역하고 이를 다시 어순에 맞춰 번역하는 형태였습니다. 그래서 번역된 결과물을 다시 한글로 바꿔보면 전혀 엉뚱한 결과물이 나오는 방식이었습니다. N2MT는 번역해야 할 문장을 보고 기존에 비슷한 유형으로 번역했던 결과물과 대조하고 특정 부분에 가중치를 두면서 보다 완벽한 문장을 만들어 갑니다. 이렇게 학습에 의해 발전하는 형태는 기존의 기계 번역보다 더 자연스럽고 매끄러운 결과물을 보여주지만, 충분한 학습이 이루어지기 전에는 오히려 기계 번역보다도 못한 결과물이 나올 수 있다.\n",
        "\n",
        "  [https://blog.uplus.co.kr/2816](link)\n",
        "\n",
        "#### 이미지 \n",
        "\n",
        "* **네이버 스마트렌즈**\n",
        "\n",
        "  스마트 렌즈은 모두 스코픽 기술을 기반으로 한다. 스마트렌즈 개발자는“스코픽 기술은 기본적으로 딥러닝 기반의 이미지 분석 기술이며 학습을 위해 필요한 정답 데이터셋을 가능한 덜 쓰는 방향으로 개발했다”고 밝혔다. 네이버 환경에 최적화된 방식으로 검색 정확도를 높이는 기술을 개발하고 있다는 부연설명도 나왔다.\n",
        "\n",
        "  [http://www.econovill.com/news/articleView.html?idxno=318459](link)\n",
        "\n",
        "----------------------------------\n",
        "  \n"
      ]
    }
  ]
}